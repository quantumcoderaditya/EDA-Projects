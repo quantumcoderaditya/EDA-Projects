{
 "cells": [
  {
   "cell_type": "code",
   "execution_count": 1,
   "id": "c6ceb5de-2dae-4900-8ff4-5f8ca2698f62",
   "metadata": {},
   "outputs": [],
   "source": [
    "import pandas as pd\n",
    "import numpy as np\n",
    "from matplotlib import pyplot as plt"
   ]
  },
  {
   "cell_type": "code",
   "execution_count": 2,
   "id": "235dbeee-c447-428f-b215-577ff85ea60d",
   "metadata": {},
   "outputs": [],
   "source": [
    "df_raw =  pd.read_csv(r\"D:\\Datasets\\Mumbai House Prices.csv\")"
   ]
  },
  {
   "cell_type": "code",
   "execution_count": 3,
   "id": "5cb9e9d2-0769-4608-8c48-87d3e746d53a",
   "metadata": {},
   "outputs": [
    {
     "name": "stdout",
     "output_type": "stream",
     "text": [
      "<class 'pandas.core.frame.DataFrame'>\n",
      "RangeIndex: 76038 entries, 0 to 76037\n",
      "Data columns (total 9 columns):\n",
      " #   Column      Non-Null Count  Dtype  \n",
      "---  ------      --------------  -----  \n",
      " 0   bhk         76038 non-null  int64  \n",
      " 1   type        76038 non-null  object \n",
      " 2   locality    76038 non-null  object \n",
      " 3   area        76038 non-null  int64  \n",
      " 4   price       76038 non-null  float64\n",
      " 5   price_unit  76038 non-null  object \n",
      " 6   region      76038 non-null  object \n",
      " 7   status      76038 non-null  object \n",
      " 8   age         76038 non-null  object \n",
      "dtypes: float64(1), int64(2), object(6)\n",
      "memory usage: 5.2+ MB\n"
     ]
    }
   ],
   "source": [
    "df_raw.info()"
   ]
  },
  {
   "cell_type": "code",
   "execution_count": 4,
   "id": "4845b599-c924-4846-ba2c-487bda10b9d1",
   "metadata": {},
   "outputs": [
    {
     "data": {
      "text/html": [
       "<div>\n",
       "<style scoped>\n",
       "    .dataframe tbody tr th:only-of-type {\n",
       "        vertical-align: middle;\n",
       "    }\n",
       "\n",
       "    .dataframe tbody tr th {\n",
       "        vertical-align: top;\n",
       "    }\n",
       "\n",
       "    .dataframe thead th {\n",
       "        text-align: right;\n",
       "    }\n",
       "</style>\n",
       "<table border=\"1\" class=\"dataframe\">\n",
       "  <thead>\n",
       "    <tr style=\"text-align: right;\">\n",
       "      <th></th>\n",
       "      <th>bhk</th>\n",
       "      <th>area</th>\n",
       "      <th>price</th>\n",
       "    </tr>\n",
       "  </thead>\n",
       "  <tbody>\n",
       "    <tr>\n",
       "      <th>count</th>\n",
       "      <td>76038.000000</td>\n",
       "      <td>76038.000000</td>\n",
       "      <td>76038.00000</td>\n",
       "    </tr>\n",
       "    <tr>\n",
       "      <th>mean</th>\n",
       "      <td>2.015111</td>\n",
       "      <td>1024.536850</td>\n",
       "      <td>29.38227</td>\n",
       "    </tr>\n",
       "    <tr>\n",
       "      <th>std</th>\n",
       "      <td>0.922754</td>\n",
       "      <td>670.276165</td>\n",
       "      <td>32.90345</td>\n",
       "    </tr>\n",
       "    <tr>\n",
       "      <th>min</th>\n",
       "      <td>1.000000</td>\n",
       "      <td>127.000000</td>\n",
       "      <td>1.00000</td>\n",
       "    </tr>\n",
       "    <tr>\n",
       "      <th>25%</th>\n",
       "      <td>1.000000</td>\n",
       "      <td>640.000000</td>\n",
       "      <td>1.75000</td>\n",
       "    </tr>\n",
       "    <tr>\n",
       "      <th>50%</th>\n",
       "      <td>2.000000</td>\n",
       "      <td>872.000000</td>\n",
       "      <td>5.50000</td>\n",
       "    </tr>\n",
       "    <tr>\n",
       "      <th>75%</th>\n",
       "      <td>3.000000</td>\n",
       "      <td>1179.000000</td>\n",
       "      <td>59.00000</td>\n",
       "    </tr>\n",
       "    <tr>\n",
       "      <th>max</th>\n",
       "      <td>10.000000</td>\n",
       "      <td>16000.000000</td>\n",
       "      <td>99.99000</td>\n",
       "    </tr>\n",
       "  </tbody>\n",
       "</table>\n",
       "</div>"
      ],
      "text/plain": [
       "                bhk          area        price\n",
       "count  76038.000000  76038.000000  76038.00000\n",
       "mean       2.015111   1024.536850     29.38227\n",
       "std        0.922754    670.276165     32.90345\n",
       "min        1.000000    127.000000      1.00000\n",
       "25%        1.000000    640.000000      1.75000\n",
       "50%        2.000000    872.000000      5.50000\n",
       "75%        3.000000   1179.000000     59.00000\n",
       "max       10.000000  16000.000000     99.99000"
      ]
     },
     "execution_count": 4,
     "metadata": {},
     "output_type": "execute_result"
    }
   ],
   "source": [
    "df_raw.describe()"
   ]
  },
  {
   "cell_type": "code",
   "execution_count": 5,
   "id": "76380399-f9d3-42d1-8fdb-ed61f9365b6b",
   "metadata": {},
   "outputs": [
    {
     "data": {
      "text/html": [
       "<div>\n",
       "<style scoped>\n",
       "    .dataframe tbody tr th:only-of-type {\n",
       "        vertical-align: middle;\n",
       "    }\n",
       "\n",
       "    .dataframe tbody tr th {\n",
       "        vertical-align: top;\n",
       "    }\n",
       "\n",
       "    .dataframe thead th {\n",
       "        text-align: right;\n",
       "    }\n",
       "</style>\n",
       "<table border=\"1\" class=\"dataframe\">\n",
       "  <thead>\n",
       "    <tr style=\"text-align: right;\">\n",
       "      <th></th>\n",
       "      <th>bhk</th>\n",
       "      <th>type</th>\n",
       "      <th>locality</th>\n",
       "      <th>area</th>\n",
       "      <th>price</th>\n",
       "      <th>price_unit</th>\n",
       "      <th>region</th>\n",
       "      <th>status</th>\n",
       "      <th>age</th>\n",
       "    </tr>\n",
       "  </thead>\n",
       "  <tbody>\n",
       "    <tr>\n",
       "      <th>0</th>\n",
       "      <td>3</td>\n",
       "      <td>Apartment</td>\n",
       "      <td>Lak And Hanware The Residency Tower</td>\n",
       "      <td>685</td>\n",
       "      <td>2.50</td>\n",
       "      <td>Cr</td>\n",
       "      <td>Andheri West</td>\n",
       "      <td>Ready to move</td>\n",
       "      <td>New</td>\n",
       "    </tr>\n",
       "    <tr>\n",
       "      <th>1</th>\n",
       "      <td>2</td>\n",
       "      <td>Apartment</td>\n",
       "      <td>Radheya Sai Enclave Building No 2</td>\n",
       "      <td>640</td>\n",
       "      <td>52.51</td>\n",
       "      <td>L</td>\n",
       "      <td>Naigaon East</td>\n",
       "      <td>Under Construction</td>\n",
       "      <td>New</td>\n",
       "    </tr>\n",
       "    <tr>\n",
       "      <th>2</th>\n",
       "      <td>2</td>\n",
       "      <td>Apartment</td>\n",
       "      <td>Romell Serene</td>\n",
       "      <td>610</td>\n",
       "      <td>1.73</td>\n",
       "      <td>Cr</td>\n",
       "      <td>Borivali West</td>\n",
       "      <td>Under Construction</td>\n",
       "      <td>New</td>\n",
       "    </tr>\n",
       "    <tr>\n",
       "      <th>3</th>\n",
       "      <td>2</td>\n",
       "      <td>Apartment</td>\n",
       "      <td>Soundlines Codename Urban Rainforest</td>\n",
       "      <td>876</td>\n",
       "      <td>59.98</td>\n",
       "      <td>L</td>\n",
       "      <td>Panvel</td>\n",
       "      <td>Under Construction</td>\n",
       "      <td>New</td>\n",
       "    </tr>\n",
       "    <tr>\n",
       "      <th>4</th>\n",
       "      <td>2</td>\n",
       "      <td>Apartment</td>\n",
       "      <td>Origin Oriana</td>\n",
       "      <td>659</td>\n",
       "      <td>94.11</td>\n",
       "      <td>L</td>\n",
       "      <td>Mira Road East</td>\n",
       "      <td>Under Construction</td>\n",
       "      <td>New</td>\n",
       "    </tr>\n",
       "  </tbody>\n",
       "</table>\n",
       "</div>"
      ],
      "text/plain": [
       "   bhk       type                              locality  area  price  \\\n",
       "0    3  Apartment   Lak And Hanware The Residency Tower   685   2.50   \n",
       "1    2  Apartment     Radheya Sai Enclave Building No 2   640  52.51   \n",
       "2    2  Apartment                         Romell Serene   610   1.73   \n",
       "3    2  Apartment  Soundlines Codename Urban Rainforest   876  59.98   \n",
       "4    2  Apartment                         Origin Oriana   659  94.11   \n",
       "\n",
       "  price_unit          region              status  age  \n",
       "0         Cr    Andheri West       Ready to move  New  \n",
       "1          L    Naigaon East  Under Construction  New  \n",
       "2         Cr   Borivali West  Under Construction  New  \n",
       "3          L          Panvel  Under Construction  New  \n",
       "4          L  Mira Road East  Under Construction  New  "
      ]
     },
     "execution_count": 5,
     "metadata": {},
     "output_type": "execute_result"
    }
   ],
   "source": [
    "df_raw.head()"
   ]
  },
  {
   "cell_type": "markdown",
   "id": "3b400e1c-b277-47d6-a374-6a2f2f74cfd7",
   "metadata": {},
   "source": [
    "# Multivariate Analysis 🚀"
   ]
  },
  {
   "cell_type": "code",
   "execution_count": 7,
   "id": "282a53e4-13dc-4d41-bdf3-aea12ff86937",
   "metadata": {},
   "outputs": [
    {
     "data": {
      "text/plain": [
       "bhk\n",
       "2    31429\n",
       "1    24613\n",
       "3    15273\n",
       "Name: count, dtype: int64"
      ]
     },
     "metadata": {},
     "output_type": "display_data"
    }
   ],
   "source": [
    "df_bhk_info = df_raw[\"bhk\"].value_counts().head(3)\n",
    "display(df_bhk_info)"
   ]
  },
  {
   "cell_type": "code",
   "execution_count": 8,
   "id": "4a750407-6296-4791-9c7b-f1b8677f904e",
   "metadata": {},
   "outputs": [
    {
     "name": "stdout",
     "output_type": "stream",
     "text": [
      "[31429, 24613, 15273]\n"
     ]
    }
   ],
   "source": [
    "x =  df_bhk_info[::].to_list()\n",
    "print(x)"
   ]
  },
  {
   "cell_type": "code",
   "execution_count": 9,
   "id": "38502c65-08fd-427f-82cc-41a5aefbc192",
   "metadata": {},
   "outputs": [
    {
     "data": {
      "image/png": "[encoded data removed]",
      "text/plain": [
       "<Figure size 640x480 with 1 Axes>"
      ]
     },
     "metadata": {},
     "output_type": "display_data"
    }
   ],
   "source": [
    "fig, ax = plt.subplots()\n",
    "\n",
    "bar_labels = ['red', 'blue', 'orange']\n",
    "bar_colors = ['tab:red', 'tab:blue', 'tab:orange']\n",
    "\n",
    "ax.bar(df_bhk_info.index,df_bhk_info.values, label=bar_labels, color=bar_colors)\n",
    "ax.set_yticks(df_bhk_info.values)\n",
    "ax.set_xticks(df_bhk_info.index)\n",
    "\n",
    "ax.set_ylabel('No Of Flats')\n",
    "ax.set_title('BHK ')\n",
    "ax.legend(title='No Of Rooms')\n",
    "\n",
    "plt.show()"
   ]
  },
  {
   "cell_type": "markdown",
   "id": "d8da83d7-3fe7-4b40-85c8-a6b5039f539a",
   "metadata": {},
   "source": [
    "## The above graph represents the no of available flats for top 3 No of BHK Flats"
   ]
  },
  {
   "cell_type": "markdown",
   "id": "7acfc99f-a087-4c39-9b50-393470777188",
   "metadata": {},
   "source": [
    "## Count of No of Residences According to their type"
   ]
  },
  {
   "cell_type": "code",
   "execution_count": 12,
   "id": "6d89cb28-bca1-431d-ac37-157a138c8a2e",
   "metadata": {},
   "outputs": [
    {
     "data": {
      "text/plain": [
       "type\n",
       "Apartment            74854\n",
       "Studio Apartment       882\n",
       "Villa                  226\n",
       "Independent House       73\n",
       "Penthouse                3\n",
       "Name: count, dtype: int64"
      ]
     },
     "execution_count": 12,
     "metadata": {},
     "output_type": "execute_result"
    }
   ],
   "source": [
    "df_raw[\"type\"].value_counts()"
   ]
  },
  {
   "cell_type": "markdown",
   "id": "b03402ef-eeb2-4b50-8441-21a06a46fd38",
   "metadata": {},
   "source": [
    "## Top three Residences Accordong to Sqft area of house"
   ]
  },
  {
   "cell_type": "code",
   "execution_count": 14,
   "id": "07afd5a2-824e-4c1b-bdb1-a160bb700cc8",
   "metadata": {},
   "outputs": [
    {
     "data": {
      "text/html": [
       "<div>\n",
       "<style scoped>\n",
       "    .dataframe tbody tr th:only-of-type {\n",
       "        vertical-align: middle;\n",
       "    }\n",
       "\n",
       "    .dataframe tbody tr th {\n",
       "        vertical-align: top;\n",
       "    }\n",
       "\n",
       "    .dataframe thead th {\n",
       "        text-align: right;\n",
       "    }\n",
       "</style>\n",
       "<table border=\"1\" class=\"dataframe\">\n",
       "  <thead>\n",
       "    <tr style=\"text-align: right;\">\n",
       "      <th></th>\n",
       "      <th>bhk</th>\n",
       "      <th>type</th>\n",
       "      <th>locality</th>\n",
       "      <th>area</th>\n",
       "      <th>price</th>\n",
       "      <th>price_unit</th>\n",
       "      <th>region</th>\n",
       "      <th>status</th>\n",
       "      <th>age</th>\n",
       "    </tr>\n",
       "  </thead>\n",
       "  <tbody>\n",
       "    <tr>\n",
       "      <th>60864</th>\n",
       "      <td>10</td>\n",
       "      <td>Apartment</td>\n",
       "      <td>JP Chalet Amar</td>\n",
       "      <td>16000</td>\n",
       "      <td>50.0</td>\n",
       "      <td>Cr</td>\n",
       "      <td>Juhu</td>\n",
       "      <td>Ready to move</td>\n",
       "      <td>Unknown</td>\n",
       "    </tr>\n",
       "    <tr>\n",
       "      <th>68538</th>\n",
       "      <td>10</td>\n",
       "      <td>Apartment</td>\n",
       "      <td>Indiabulls Blu Tower D</td>\n",
       "      <td>16000</td>\n",
       "      <td>40.0</td>\n",
       "      <td>Cr</td>\n",
       "      <td>Worli</td>\n",
       "      <td>Ready to move</td>\n",
       "      <td>Unknown</td>\n",
       "    </tr>\n",
       "    <tr>\n",
       "      <th>68539</th>\n",
       "      <td>10</td>\n",
       "      <td>Apartment</td>\n",
       "      <td>Sunteck Signature Island</td>\n",
       "      <td>16000</td>\n",
       "      <td>50.0</td>\n",
       "      <td>Cr</td>\n",
       "      <td>Bandra Kurla Complex</td>\n",
       "      <td>Ready to move</td>\n",
       "      <td>Unknown</td>\n",
       "    </tr>\n",
       "  </tbody>\n",
       "</table>\n",
       "</div>"
      ],
      "text/plain": [
       "       bhk       type                  locality   area  price price_unit  \\\n",
       "60864   10  Apartment            JP Chalet Amar  16000   50.0         Cr   \n",
       "68538   10  Apartment    Indiabulls Blu Tower D  16000   40.0         Cr   \n",
       "68539   10  Apartment  Sunteck Signature Island  16000   50.0         Cr   \n",
       "\n",
       "                     region         status      age  \n",
       "60864                  Juhu  Ready to move  Unknown  \n",
       "68538                 Worli  Ready to move  Unknown  \n",
       "68539  Bandra Kurla Complex  Ready to move  Unknown  "
      ]
     },
     "execution_count": 14,
     "metadata": {},
     "output_type": "execute_result"
    }
   ],
   "source": [
    "df_raw[df_raw[\"area\"] == df_raw[\"area\"].max()]"
   ]
  },
  {
   "cell_type": "markdown",
   "id": "aa5aba02-3805-4631-8ded-ebe3547d00fd",
   "metadata": {},
   "source": [
    "##  Details of the Apartment with least Sqft Area"
   ]
  },
  {
   "cell_type": "code",
   "execution_count": 16,
   "id": "0d953259-689c-40d3-8648-ac44bc00f917",
   "metadata": {},
   "outputs": [
    {
     "data": {
      "text/html": [
       "<div>\n",
       "<style scoped>\n",
       "    .dataframe tbody tr th:only-of-type {\n",
       "        vertical-align: middle;\n",
       "    }\n",
       "\n",
       "    .dataframe tbody tr th {\n",
       "        vertical-align: top;\n",
       "    }\n",
       "\n",
       "    .dataframe thead th {\n",
       "        text-align: right;\n",
       "    }\n",
       "</style>\n",
       "<table border=\"1\" class=\"dataframe\">\n",
       "  <thead>\n",
       "    <tr style=\"text-align: right;\">\n",
       "      <th></th>\n",
       "      <th>bhk</th>\n",
       "      <th>type</th>\n",
       "      <th>locality</th>\n",
       "      <th>area</th>\n",
       "      <th>price</th>\n",
       "      <th>price_unit</th>\n",
       "      <th>region</th>\n",
       "      <th>status</th>\n",
       "      <th>age</th>\n",
       "    </tr>\n",
       "  </thead>\n",
       "  <tbody>\n",
       "    <tr>\n",
       "      <th>20784</th>\n",
       "      <td>1</td>\n",
       "      <td>Apartment</td>\n",
       "      <td>JP North Barcelona</td>\n",
       "      <td>127</td>\n",
       "      <td>59.0</td>\n",
       "      <td>L</td>\n",
       "      <td>Mira Road East</td>\n",
       "      <td>Under Construction</td>\n",
       "      <td>New</td>\n",
       "    </tr>\n",
       "    <tr>\n",
       "      <th>23438</th>\n",
       "      <td>1</td>\n",
       "      <td>Apartment</td>\n",
       "      <td>JP North Barcelona</td>\n",
       "      <td>127</td>\n",
       "      <td>59.0</td>\n",
       "      <td>L</td>\n",
       "      <td>Mira Road East</td>\n",
       "      <td>Under Construction</td>\n",
       "      <td>New</td>\n",
       "    </tr>\n",
       "    <tr>\n",
       "      <th>24503</th>\n",
       "      <td>1</td>\n",
       "      <td>Apartment</td>\n",
       "      <td>JP North Barcelona</td>\n",
       "      <td>127</td>\n",
       "      <td>59.0</td>\n",
       "      <td>L</td>\n",
       "      <td>Mira Road East</td>\n",
       "      <td>Under Construction</td>\n",
       "      <td>New</td>\n",
       "    </tr>\n",
       "    <tr>\n",
       "      <th>29816</th>\n",
       "      <td>1</td>\n",
       "      <td>Apartment</td>\n",
       "      <td>JP North Barcelona</td>\n",
       "      <td>127</td>\n",
       "      <td>72.0</td>\n",
       "      <td>L</td>\n",
       "      <td>Mira Road East</td>\n",
       "      <td>Under Construction</td>\n",
       "      <td>New</td>\n",
       "    </tr>\n",
       "    <tr>\n",
       "      <th>42185</th>\n",
       "      <td>1</td>\n",
       "      <td>Apartment</td>\n",
       "      <td>JP North Barcelona</td>\n",
       "      <td>127</td>\n",
       "      <td>59.0</td>\n",
       "      <td>L</td>\n",
       "      <td>Mira Road East</td>\n",
       "      <td>Under Construction</td>\n",
       "      <td>New</td>\n",
       "    </tr>\n",
       "  </tbody>\n",
       "</table>\n",
       "</div>"
      ],
      "text/plain": [
       "       bhk       type            locality  area  price price_unit  \\\n",
       "20784    1  Apartment  JP North Barcelona   127   59.0          L   \n",
       "23438    1  Apartment  JP North Barcelona   127   59.0          L   \n",
       "24503    1  Apartment  JP North Barcelona   127   59.0          L   \n",
       "29816    1  Apartment  JP North Barcelona   127   72.0          L   \n",
       "42185    1  Apartment  JP North Barcelona   127   59.0          L   \n",
       "\n",
       "               region              status  age  \n",
       "20784  Mira Road East  Under Construction  New  \n",
       "23438  Mira Road East  Under Construction  New  \n",
       "24503  Mira Road East  Under Construction  New  \n",
       "29816  Mira Road East  Under Construction  New  \n",
       "42185  Mira Road East  Under Construction  New  "
      ]
     },
     "execution_count": 16,
     "metadata": {},
     "output_type": "execute_result"
    }
   ],
   "source": [
    "df_raw[df_raw[\"area\"] == df_raw[\"area\"].min()]"
   ]
  },
  {
   "cell_type": "markdown",
   "id": "6d15b1db-d248-4f1c-a338-255c42de5258",
   "metadata": {},
   "source": [
    "## We can see here that Apartments has the least sqft area according to house and area of house is 127sqft."
   ]
  },
  {
   "cell_type": "code",
   "execution_count": 18,
   "id": "24a2337d-b1c5-454b-bd49-6a7f96e059fb",
   "metadata": {},
   "outputs": [],
   "source": [
    "df_info_status = df_raw['status'].value_counts()"
   ]
  },
  {
   "cell_type": "code",
   "execution_count": 19,
   "id": "bc053968-fd9b-4d31-9786-fe5e3caabf19",
   "metadata": {},
   "outputs": [
    {
     "data": {
      "image/png": "[encoded data removed]",
      "text/plain": [
       "<Figure size 640x480 with 1 Axes>"
      ]
     },
     "metadata": {},
     "output_type": "display_data"
    }
   ],
   "source": [
    "fig, ax = plt.subplots()\n",
    "\n",
    "# bar_labels = ['red', 'blue', 'orange']\n",
    "# bar_colors = ['tab:red', 'tab:blue', 'tab:orange']\n",
    "\n",
    "ax.pie(df_info_status.values,labels = df_info_status.index,autopct='%1.1f%%',pctdistance=1.25, labeldistance=.6)\n",
    "# ax.set_yticks(df_bhk_info.values)\n",
    "# ax.set_xticks(df_bhk_info.index)\n",
    "\n",
    "# ax.set_ylabel('No Of Flats')\n",
    "# ax.set_title('BHK ')\n",
    "ax.legend()\n",
    "plt.show()\n",
    "\n"
   ]
  },
  {
   "cell_type": "code",
   "execution_count": 20,
   "id": "8f933fdc-47d9-4889-946c-74c6375c17cc",
   "metadata": {},
   "outputs": [
    {
     "data": {
      "text/plain": [
       "bhk                            10\n",
       "type                        Villa\n",
       "locality      Zoeb Aayesha Palace\n",
       "area                        16000\n",
       "price                        60.0\n",
       "price_unit                     Cr\n",
       "region            vile parle west\n",
       "status         Under Construction\n",
       "age                       Unknown\n",
       "dtype: object"
      ]
     },
     "execution_count": 20,
     "metadata": {},
     "output_type": "execute_result"
    }
   ],
   "source": [
    "df_raw[df_raw[\"price_unit\"] == \"Cr\" ].max()"
   ]
  },
  {
   "cell_type": "markdown",
   "id": "b336dba2-c456-4a86-aeb9-3b6d710cd45b",
   "metadata": {},
   "source": [
    "## Details of Flat with max price when price unit is in Crores"
   ]
  },
  {
   "cell_type": "code",
   "execution_count": 22,
   "id": "a6223dc7-7c85-44b1-ac93-00743d8a9ae0",
   "metadata": {},
   "outputs": [
    {
     "data": {
      "text/plain": [
       "bhk                               5\n",
       "type                          Villa\n",
       "locality      Zinal Angel Residency\n",
       "area                           5000\n",
       "price                         99.99\n",
       "price_unit                        L\n",
       "region                       mumbai\n",
       "status           Under Construction\n",
       "age                         Unknown\n",
       "dtype: object"
      ]
     },
     "execution_count": 22,
     "metadata": {},
     "output_type": "execute_result"
    }
   ],
   "source": [
    "df_raw[df_raw[\"price_unit\"] == \"L\"].max()"
   ]
  },
  {
   "cell_type": "markdown",
   "id": "032da3ec-4f69-42ea-809d-dbafc100a799",
   "metadata": {},
   "source": [
    "## Details of flat with maximum price when price unit is in lakhs"
   ]
  },
  {
   "cell_type": "code",
   "execution_count": 24,
   "id": "0b096a37-add2-4653-a338-9c590db869ca",
   "metadata": {},
   "outputs": [],
   "source": [
    "df_region_info = df_raw[\"region\"].value_counts().head(3)"
   ]
  },
  {
   "cell_type": "code",
   "execution_count": 25,
   "id": "ecd0fb15-5191-44c2-82d0-d34522afda4f",
   "metadata": {},
   "outputs": [
    {
     "data": {
      "image/png": "[encoded data removed]",
      "text/plain": [
       "<Figure size 640x480 with 1 Axes>"
      ]
     },
     "metadata": {},
     "output_type": "display_data"
    }
   ],
   "source": [
    "fig, ax = plt.subplots()\n",
    "\n",
    "# bar_labels = ['red', 'blue', 'orange']\n",
    "# bar_colors = ['tab:red', 'tab:blue', 'tab:orange']\n",
    "\n",
    "ax.pie(df_region_info.values,labels = df_region_info.index,autopct='%1.1f%%',pctdistance=1.25, labeldistance=.6)\n",
    "# ax.set_yticks(df_bhk_info.values)\n",
    "# ax.set_xticks(df_bhk_info.index)\n",
    "\n",
    "# ax.set_ylabel('No Of Flats')\n",
    "# ax.set_title('BHK ')\n",
    "ax.legend()\n",
    "plt.show()\n",
    "\n"
   ]
  },
  {
   "cell_type": "markdown",
   "id": "b4041440-ef3f-4814-9997-9b5f97520f65",
   "metadata": {},
   "source": [
    "## Maximum no of Flats are in Thane west"
   ]
  },
  {
   "cell_type": "code",
   "execution_count": 27,
   "id": "1cb39bfe-e73d-448d-80b8-68307c9cad43",
   "metadata": {},
   "outputs": [
    {
     "data": {
      "text/html": [
       "<div>\n",
       "<style scoped>\n",
       "    .dataframe tbody tr th:only-of-type {\n",
       "        vertical-align: middle;\n",
       "    }\n",
       "\n",
       "    .dataframe tbody tr th {\n",
       "        vertical-align: top;\n",
       "    }\n",
       "\n",
       "    .dataframe thead th {\n",
       "        text-align: right;\n",
       "    }\n",
       "</style>\n",
       "<table border=\"1\" class=\"dataframe\">\n",
       "  <thead>\n",
       "    <tr style=\"text-align: right;\">\n",
       "      <th></th>\n",
       "      <th>bhk</th>\n",
       "      <th>type</th>\n",
       "      <th>locality</th>\n",
       "      <th>area</th>\n",
       "      <th>price</th>\n",
       "      <th>price_unit</th>\n",
       "      <th>region</th>\n",
       "      <th>status</th>\n",
       "      <th>age</th>\n",
       "    </tr>\n",
       "  </thead>\n",
       "  <tbody>\n",
       "    <tr>\n",
       "      <th>0</th>\n",
       "      <td>3</td>\n",
       "      <td>Apartment</td>\n",
       "      <td>Lak And Hanware The Residency Tower</td>\n",
       "      <td>685</td>\n",
       "      <td>2.50</td>\n",
       "      <td>Cr</td>\n",
       "      <td>Andheri West</td>\n",
       "      <td>Ready to move</td>\n",
       "      <td>New</td>\n",
       "    </tr>\n",
       "    <tr>\n",
       "      <th>1</th>\n",
       "      <td>2</td>\n",
       "      <td>Apartment</td>\n",
       "      <td>Radheya Sai Enclave Building No 2</td>\n",
       "      <td>640</td>\n",
       "      <td>52.51</td>\n",
       "      <td>L</td>\n",
       "      <td>Naigaon East</td>\n",
       "      <td>Under Construction</td>\n",
       "      <td>New</td>\n",
       "    </tr>\n",
       "    <tr>\n",
       "      <th>2</th>\n",
       "      <td>2</td>\n",
       "      <td>Apartment</td>\n",
       "      <td>Romell Serene</td>\n",
       "      <td>610</td>\n",
       "      <td>1.73</td>\n",
       "      <td>Cr</td>\n",
       "      <td>Borivali West</td>\n",
       "      <td>Under Construction</td>\n",
       "      <td>New</td>\n",
       "    </tr>\n",
       "    <tr>\n",
       "      <th>3</th>\n",
       "      <td>2</td>\n",
       "      <td>Apartment</td>\n",
       "      <td>Soundlines Codename Urban Rainforest</td>\n",
       "      <td>876</td>\n",
       "      <td>59.98</td>\n",
       "      <td>L</td>\n",
       "      <td>Panvel</td>\n",
       "      <td>Under Construction</td>\n",
       "      <td>New</td>\n",
       "    </tr>\n",
       "    <tr>\n",
       "      <th>4</th>\n",
       "      <td>2</td>\n",
       "      <td>Apartment</td>\n",
       "      <td>Origin Oriana</td>\n",
       "      <td>659</td>\n",
       "      <td>94.11</td>\n",
       "      <td>L</td>\n",
       "      <td>Mira Road East</td>\n",
       "      <td>Under Construction</td>\n",
       "      <td>New</td>\n",
       "    </tr>\n",
       "  </tbody>\n",
       "</table>\n",
       "</div>"
      ],
      "text/plain": [
       "   bhk       type                              locality  area  price  \\\n",
       "0    3  Apartment   Lak And Hanware The Residency Tower   685   2.50   \n",
       "1    2  Apartment     Radheya Sai Enclave Building No 2   640  52.51   \n",
       "2    2  Apartment                         Romell Serene   610   1.73   \n",
       "3    2  Apartment  Soundlines Codename Urban Rainforest   876  59.98   \n",
       "4    2  Apartment                         Origin Oriana   659  94.11   \n",
       "\n",
       "  price_unit          region              status  age  \n",
       "0         Cr    Andheri West       Ready to move  New  \n",
       "1          L    Naigaon East  Under Construction  New  \n",
       "2         Cr   Borivali West  Under Construction  New  \n",
       "3          L          Panvel  Under Construction  New  \n",
       "4          L  Mira Road East  Under Construction  New  "
      ]
     },
     "execution_count": 27,
     "metadata": {},
     "output_type": "execute_result"
    }
   ],
   "source": [
    "df_raw.head()"
   ]
  },
  {
   "cell_type": "code",
   "execution_count": 28,
   "id": "e283d3ad-8758-47c0-aa76-c17e89429680",
   "metadata": {},
   "outputs": [
    {
     "data": {
      "text/plain": [
       "bhk                                            6\n",
       "type                                       Villa\n",
       "locality      Yash The Vivek Flat Owners CHS Ltd\n",
       "area                                        8000\n",
       "price                                       19.0\n",
       "price_unit                                    Cr\n",
       "region                                Thane West\n",
       "status                        Under Construction\n",
       "age                                      Unknown\n",
       "dtype: object"
      ]
     },
     "execution_count": 28,
     "metadata": {},
     "output_type": "execute_result"
    }
   ],
   "source": [
    "df_raw[(df_raw[\"region\"] == \"Thane West\") & (df_raw[\"price_unit\"] == \"Cr\")].max()"
   ]
  },
  {
   "cell_type": "markdown",
   "id": "808c30de-6553-4499-b5c6-2fbe8aa43ed6",
   "metadata": {},
   "source": [
    "## Details of residence and the maximum price of residence is 19.0 Cr in Thane West which has the largest no of Residences"
   ]
  },
  {
   "cell_type": "code",
   "execution_count": 30,
   "id": "3251bd09-89a2-4572-a62a-73970d91d4d6",
   "metadata": {},
   "outputs": [
    {
     "data": {
      "text/plain": [
       "bhk                               1\n",
       "type                      Apartment\n",
       "locality      Aakar Manas Residency\n",
       "area                            183\n",
       "price                         10.99\n",
       "price_unit                        L\n",
       "region                   Thane West\n",
       "status                Ready to move\n",
       "age                             New\n",
       "dtype: object"
      ]
     },
     "execution_count": 30,
     "metadata": {},
     "output_type": "execute_result"
    }
   ],
   "source": [
    "df_raw[(df_raw[\"region\"] == \"Thane West\") & (df_raw[\"price_unit\"] == \"L\")].min()"
   ]
  },
  {
   "cell_type": "markdown",
   "id": "53bf5972-c389-4d2d-ba83-39c55d261fcb",
   "metadata": {},
   "source": [
    "## Details of residence and the minimum price of residence is 10.99 Lakhs in Thane West which has the largest no of Residences"
   ]
  },
  {
   "cell_type": "code",
   "execution_count": 32,
   "id": "47efd8a2-5ee2-4cf5-acf6-6ce6b2cadbc0",
   "metadata": {},
   "outputs": [
    {
     "data": {
      "text/plain": [
       "228"
      ]
     },
     "execution_count": 32,
     "metadata": {},
     "output_type": "execute_result"
    }
   ],
   "source": [
    "list_of_regions = set(df_raw[\"region\"].to_list())\n",
    "final_list = list(set([i.upper() for i in list_of_regions]))\n",
    "len(final_list)"
   ]
  },
  {
   "cell_type": "markdown",
   "id": "7ebc04a4-e478-4048-94d2-794bb537fced",
   "metadata": {},
   "source": [
    "## There are a total of 228 regions in Mumbai Locations with available residences"
   ]
  },
  {
   "cell_type": "code",
   "execution_count": 34,
   "id": "3cb404ea-0443-47c7-9cd7-d1d9f00afb43",
   "metadata": {},
   "outputs": [],
   "source": [
    "# for i in list_of_regions:\n",
    "#     display(df_raw[(df_raw[\"region\"] == i)])"
   ]
  },
  {
   "cell_type": "markdown",
   "id": "66e95a86-0bbc-4bc6-abd9-a30774113707",
   "metadata": {},
   "source": [
    "## Details of the residences according to all 228 regions can be found after executing the above cell"
   ]
  },
  {
   "cell_type": "code",
   "execution_count": 36,
   "id": "916bea8d-fcd5-4ffd-b475-44df5515ae90",
   "metadata": {},
   "outputs": [],
   "source": [
    "df_info_age = df_raw[\"age\"].value_counts()"
   ]
  },
  {
   "cell_type": "code",
   "execution_count": 37,
   "id": "2605a7e6-0dc8-49c5-824a-2efb0be5cbe8",
   "metadata": {},
   "outputs": [
    {
     "data": {
      "image/png": "[encoded data removed]",
      "text/plain": [
       "<Figure size 640x480 with 1 Axes>"
      ]
     },
     "metadata": {},
     "output_type": "display_data"
    }
   ],
   "source": [
    "fig, ax = plt.subplots()\n",
    "\n",
    "bar_labels = ['red', 'blue', 'orange']\n",
    "bar_colors = ['tab:red', 'tab:blue', 'tab:orange']\n",
    "\n",
    "ax.bar(df_info_age.index,df_info_age.values, label=bar_labels, color=bar_colors)\n",
    "ax.set_yticks(df_info_age.values)\n",
    "ax.set_xticks(df_info_age.index)\n",
    "\n",
    "ax.set_ylabel('No Of Flats')\n",
    "ax.set_xlabel('Age Of Flats')\n",
    "# ax.set_title('Age of Flats ')\n",
    "ax.legend(title='Age vs No of Flats')\n",
    "\n",
    "plt.show()"
   ]
  },
  {
   "cell_type": "code",
   "execution_count": 38,
   "id": "8b2f53a6-383d-4edf-bd8f-5fe693afc9ad",
   "metadata": {},
   "outputs": [
    {
     "data": {
      "text/plain": [
       "price_unit\n",
       "Cr    40981\n",
       "L     35057\n",
       "Name: count, dtype: int64"
      ]
     },
     "execution_count": 38,
     "metadata": {},
     "output_type": "execute_result"
    }
   ],
   "source": [
    "df_raw[\"price_unit\"].value_counts()"
   ]
  },
  {
   "cell_type": "markdown",
   "id": "f0c92473-4dc6-4e1b-8689-d55f77509b4f",
   "metadata": {},
   "source": [
    "## We can also say that there are 35,057 flats with maximum price upto 1 Crore and 40981 flats with price more than 1 Crore"
   ]
  },
  {
   "cell_type": "code",
   "execution_count": 40,
   "id": "c473a52b-bdd3-49c3-9062-2a3f464be2b4",
   "metadata": {},
   "outputs": [
    {
     "data": {
      "text/html": [
       "<div>\n",
       "<style scoped>\n",
       "    .dataframe tbody tr th:only-of-type {\n",
       "        vertical-align: middle;\n",
       "    }\n",
       "\n",
       "    .dataframe tbody tr th {\n",
       "        vertical-align: top;\n",
       "    }\n",
       "\n",
       "    .dataframe thead th {\n",
       "        text-align: right;\n",
       "    }\n",
       "</style>\n",
       "<table border=\"1\" class=\"dataframe\">\n",
       "  <thead>\n",
       "    <tr style=\"text-align: right;\">\n",
       "      <th></th>\n",
       "      <th>bhk</th>\n",
       "      <th>type</th>\n",
       "      <th>locality</th>\n",
       "      <th>area</th>\n",
       "      <th>price</th>\n",
       "      <th>price_unit</th>\n",
       "      <th>region</th>\n",
       "      <th>status</th>\n",
       "      <th>age</th>\n",
       "    </tr>\n",
       "  </thead>\n",
       "  <tbody>\n",
       "    <tr>\n",
       "      <th>0</th>\n",
       "      <td>3</td>\n",
       "      <td>Apartment</td>\n",
       "      <td>Lak And Hanware The Residency Tower</td>\n",
       "      <td>685</td>\n",
       "      <td>2.50</td>\n",
       "      <td>Cr</td>\n",
       "      <td>Andheri West</td>\n",
       "      <td>Ready to move</td>\n",
       "      <td>New</td>\n",
       "    </tr>\n",
       "    <tr>\n",
       "      <th>1</th>\n",
       "      <td>2</td>\n",
       "      <td>Apartment</td>\n",
       "      <td>Radheya Sai Enclave Building No 2</td>\n",
       "      <td>640</td>\n",
       "      <td>52.51</td>\n",
       "      <td>L</td>\n",
       "      <td>Naigaon East</td>\n",
       "      <td>Under Construction</td>\n",
       "      <td>New</td>\n",
       "    </tr>\n",
       "    <tr>\n",
       "      <th>2</th>\n",
       "      <td>2</td>\n",
       "      <td>Apartment</td>\n",
       "      <td>Romell Serene</td>\n",
       "      <td>610</td>\n",
       "      <td>1.73</td>\n",
       "      <td>Cr</td>\n",
       "      <td>Borivali West</td>\n",
       "      <td>Under Construction</td>\n",
       "      <td>New</td>\n",
       "    </tr>\n",
       "    <tr>\n",
       "      <th>3</th>\n",
       "      <td>2</td>\n",
       "      <td>Apartment</td>\n",
       "      <td>Soundlines Codename Urban Rainforest</td>\n",
       "      <td>876</td>\n",
       "      <td>59.98</td>\n",
       "      <td>L</td>\n",
       "      <td>Panvel</td>\n",
       "      <td>Under Construction</td>\n",
       "      <td>New</td>\n",
       "    </tr>\n",
       "    <tr>\n",
       "      <th>4</th>\n",
       "      <td>2</td>\n",
       "      <td>Apartment</td>\n",
       "      <td>Origin Oriana</td>\n",
       "      <td>659</td>\n",
       "      <td>94.11</td>\n",
       "      <td>L</td>\n",
       "      <td>Mira Road East</td>\n",
       "      <td>Under Construction</td>\n",
       "      <td>New</td>\n",
       "    </tr>\n",
       "  </tbody>\n",
       "</table>\n",
       "</div>"
      ],
      "text/plain": [
       "   bhk       type                              locality  area  price  \\\n",
       "0    3  Apartment   Lak And Hanware The Residency Tower   685   2.50   \n",
       "1    2  Apartment     Radheya Sai Enclave Building No 2   640  52.51   \n",
       "2    2  Apartment                         Romell Serene   610   1.73   \n",
       "3    2  Apartment  Soundlines Codename Urban Rainforest   876  59.98   \n",
       "4    2  Apartment                         Origin Oriana   659  94.11   \n",
       "\n",
       "  price_unit          region              status  age  \n",
       "0         Cr    Andheri West       Ready to move  New  \n",
       "1          L    Naigaon East  Under Construction  New  \n",
       "2         Cr   Borivali West  Under Construction  New  \n",
       "3          L          Panvel  Under Construction  New  \n",
       "4          L  Mira Road East  Under Construction  New  "
      ]
     },
     "execution_count": 40,
     "metadata": {},
     "output_type": "execute_result"
    }
   ],
   "source": [
    "df_raw.head()"
   ]
  },
  {
   "cell_type": "code",
   "execution_count": 41,
   "id": "a13f8480-1b9a-418e-86b4-fb3b508e0cd7",
   "metadata": {},
   "outputs": [
    {
     "data": {
      "text/plain": [
       "76038"
      ]
     },
     "execution_count": 41,
     "metadata": {},
     "output_type": "execute_result"
    }
   ],
   "source": [
    "len(df_raw[\"locality\"].to_list())"
   ]
  },
  {
   "cell_type": "code",
   "execution_count": 42,
   "id": "5f343b9a-6820-4135-9d8c-0484dd6b4e86",
   "metadata": {},
   "outputs": [],
   "source": [
    "list_locality = [i.upper() for i in df_raw[\"locality\"].to_list()]"
   ]
  },
  {
   "cell_type": "code",
   "execution_count": 43,
   "id": "7253a3d8-7b5d-4813-86eb-d07d23024c2d",
   "metadata": {},
   "outputs": [
    {
     "data": {
      "text/plain": [
       "9778"
      ]
     },
     "execution_count": 43,
     "metadata": {},
     "output_type": "execute_result"
    }
   ],
   "source": [
    "list_locality_final = list(set(list_locality))\n",
    "len(list_locality_final)"
   ]
  },
  {
   "cell_type": "markdown",
   "id": "40aa1f5e-c28d-45d1-a77e-53f888839b8f",
   "metadata": {},
   "source": [
    "## After careful calibration it has been found that there are in total 9778 localities with available Residences"
   ]
  },
  {
   "cell_type": "code",
   "execution_count": 45,
   "id": "1dad3c9b-1aae-47c7-aead-9f628f0f0f0e",
   "metadata": {},
   "outputs": [],
   "source": [
    "df_locality = pd.DataFrame(list_locality_final).to_csv(\"Locality_List.csv\")"
   ]
  },
  {
   "cell_type": "markdown",
   "id": "617ee605-baf0-446a-8b23-d6bceb3f4da6",
   "metadata": {},
   "source": [
    "## Since the list is too big and cant be viewed and analysed in form of DataFrame very easily we can also convert it to excel and csv format for less technical analysis but more precise or can also be used for presentation to clients"
   ]
  },
  {
   "cell_type": "code",
   "execution_count": 47,
   "id": "2264afd2-4420-458c-b1f3-d6edb8907e0c",
   "metadata": {},
   "outputs": [
    {
     "name": "stdout",
     "output_type": "stream",
     "text": [
      "['Studio Apartment', 'Apartment', 'Penthouse', 'Villa', 'Independent House']\n"
     ]
    }
   ],
   "source": [
    "list_res_type = list(set(df_raw[\"type\"].to_list()))\n",
    "print(list_res_type)"
   ]
  },
  {
   "cell_type": "code",
   "execution_count": 48,
   "id": "d28a8187-5a90-4062-adbb-15f91cb3481a",
   "metadata": {},
   "outputs": [
    {
     "data": {
      "text/plain": [
       "bhk                            10\n",
       "type                        Villa\n",
       "locality      Zoeb Aayesha Palace\n",
       "area                        16000\n",
       "price                        60.0\n",
       "price_unit                     Cr\n",
       "region            vile parle west\n",
       "status         Under Construction\n",
       "age                       Unknown\n",
       "dtype: object"
      ]
     },
     "execution_count": 48,
     "metadata": {},
     "output_type": "execute_result"
    }
   ],
   "source": [
    "df_raw[[df_raw[\"type\"] == \"Apartment\"] and df_raw[\"price_unit\"] == \"Cr\"].max()"
   ]
  },
  {
   "cell_type": "code",
   "execution_count": 49,
   "id": "c69ae39b-0bb8-407d-b8e4-8fb8776f304b",
   "metadata": {},
   "outputs": [
    {
     "name": "stdout",
     "output_type": "stream",
     "text": [
      "bhk                            2\n",
      "type            Studio Apartment\n",
      "locality            Yashvi Pride\n",
      "area                        2637\n",
      "price                       99.0\n",
      "price_unit                     L\n",
      "region                     Worli\n",
      "status        Under Construction\n",
      "age                      Unknown\n",
      "dtype: object\n",
      "\n",
      "\n",
      "\n",
      "bhk                            10\n",
      "type                    Apartment\n",
      "locality      Zoeb Aayesha Palace\n",
      "area                        16000\n",
      "price                       99.99\n",
      "price_unit                      L\n",
      "region            vile parle west\n",
      "status         Under Construction\n",
      "age                       Unknown\n",
      "dtype: object\n",
      "\n",
      "\n",
      "\n",
      "bhk                                    4\n",
      "type                           Penthouse\n",
      "locality      Runwal Forest Tower 5 To 8\n",
      "area                                2500\n",
      "price                                3.9\n",
      "price_unit                            Cr\n",
      "region                    Koper Khairane\n",
      "status                     Ready to move\n",
      "age                              Unknown\n",
      "dtype: object\n",
      "\n",
      "\n",
      "\n",
      "bhk                                                           7\n",
      "type                                                      Villa\n",
      "locality      Wadhwa Wise City South Block Phase I Plot RZ8 ...\n",
      "area                                                      12400\n",
      "price                                                      90.0\n",
      "price_unit                                                    L\n",
      "region                                                    Worli\n",
      "status                                       Under Construction\n",
      "age                                                      Resale\n",
      "dtype: object\n",
      "\n",
      "\n",
      "\n",
      "bhk                                   6\n",
      "type                  Independent House\n",
      "locality      Wadhwa Magnolia Cluster 3\n",
      "area                               7500\n",
      "price                              62.0\n",
      "price_unit                            L\n",
      "region                           sector\n",
      "status               Under Construction\n",
      "age                              Resale\n",
      "dtype: object\n",
      "\n",
      "\n",
      "\n"
     ]
    }
   ],
   "source": [
    "for i in list_res_type:\n",
    "    print(df_raw[df_raw[\"type\"] == i].max())\n",
    "    print(\"\\n\\n\")"
   ]
  },
  {
   "cell_type": "markdown",
   "id": "e5e39ca5-4901-4f2e-a200-f61ee65f9732",
   "metadata": {},
   "source": [
    "## Above find the details of the most expensive residences according to their type"
   ]
  },
  {
   "cell_type": "code",
   "execution_count": 51,
   "id": "71ece128-dc99-450a-a8ff-a956648d6bdd",
   "metadata": {},
   "outputs": [],
   "source": [
    "list_price_unit = list(set(df_raw[\"price_unit\"].to_list()))"
   ]
  },
  {
   "cell_type": "code",
   "execution_count": 52,
   "id": "44a54433-7edc-4df9-9602-c852133690ca",
   "metadata": {},
   "outputs": [
    {
     "name": "stdout",
     "output_type": "stream",
     "text": [
      "Cr\n"
     ]
    },
    {
     "data": {
      "text/plain": [
       "bhk                       1\n",
       "type              Apartment\n",
       "locality             Arcade\n",
       "area                    288\n",
       "price                   1.0\n",
       "price_unit               Cr\n",
       "region             Agripada\n",
       "status        Ready to move\n",
       "age                     New\n",
       "dtype: object"
      ]
     },
     "metadata": {},
     "output_type": "display_data"
    },
    {
     "name": "stdout",
     "output_type": "stream",
     "text": [
      "L\n"
     ]
    },
    {
     "data": {
      "text/plain": [
       "bhk                       1\n",
       "type              Apartment\n",
       "locality        AJ Shri Jay\n",
       "area                    127\n",
       "price                  4.49\n",
       "price_unit                L\n",
       "region             Adaigaon\n",
       "status        Ready to move\n",
       "age                     New\n",
       "dtype: object"
      ]
     },
     "metadata": {},
     "output_type": "display_data"
    }
   ],
   "source": [
    "for i in list_price_unit:\n",
    "    print(i)\n",
    "    display(df_raw[df_raw[\"price_unit\"]== i].min())"
   ]
  },
  {
   "cell_type": "code",
   "execution_count": 53,
   "id": "c27652cd-46f3-4578-980a-ccaae5e7594d",
   "metadata": {},
   "outputs": [
    {
     "name": "stdout",
     "output_type": "stream",
     "text": [
      "Cr\n"
     ]
    },
    {
     "data": {
      "text/plain": [
       "bhk                            10\n",
       "type                        Villa\n",
       "locality      Zoeb Aayesha Palace\n",
       "area                        16000\n",
       "price                        60.0\n",
       "price_unit                     Cr\n",
       "region            vile parle west\n",
       "status         Under Construction\n",
       "age                       Unknown\n",
       "dtype: object"
      ]
     },
     "metadata": {},
     "output_type": "display_data"
    },
    {
     "name": "stdout",
     "output_type": "stream",
     "text": [
      "\n",
      "\n",
      "L\n"
     ]
    },
    {
     "data": {
      "text/plain": [
       "bhk                               5\n",
       "type                          Villa\n",
       "locality      Zinal Angel Residency\n",
       "area                           5000\n",
       "price                         99.99\n",
       "price_unit                        L\n",
       "region                       mumbai\n",
       "status           Under Construction\n",
       "age                         Unknown\n",
       "dtype: object"
      ]
     },
     "metadata": {},
     "output_type": "display_data"
    },
    {
     "name": "stdout",
     "output_type": "stream",
     "text": [
      "\n",
      "\n"
     ]
    }
   ],
   "source": [
    "for i in list_price_unit:\n",
    "    print(i)\n",
    "    display(df_raw[df_raw[\"price_unit\"]== i].max())\n",
    "    print(\"\\n\")"
   ]
  },
  {
   "cell_type": "code",
   "execution_count": 54,
   "id": "e97fe300-1179-47ec-a717-558f9912bea8",
   "metadata": {},
   "outputs": [
    {
     "data": {
      "text/html": [
       "<div>\n",
       "<style scoped>\n",
       "    .dataframe tbody tr th:only-of-type {\n",
       "        vertical-align: middle;\n",
       "    }\n",
       "\n",
       "    .dataframe tbody tr th {\n",
       "        vertical-align: top;\n",
       "    }\n",
       "\n",
       "    .dataframe thead th {\n",
       "        text-align: right;\n",
       "    }\n",
       "</style>\n",
       "<table border=\"1\" class=\"dataframe\">\n",
       "  <thead>\n",
       "    <tr style=\"text-align: right;\">\n",
       "      <th></th>\n",
       "      <th>bhk</th>\n",
       "      <th>type</th>\n",
       "      <th>locality</th>\n",
       "      <th>area</th>\n",
       "      <th>price</th>\n",
       "      <th>price_unit</th>\n",
       "      <th>region</th>\n",
       "      <th>status</th>\n",
       "      <th>age</th>\n",
       "    </tr>\n",
       "  </thead>\n",
       "  <tbody>\n",
       "    <tr>\n",
       "      <th>0</th>\n",
       "      <td>3</td>\n",
       "      <td>Apartment</td>\n",
       "      <td>Lak And Hanware The Residency Tower</td>\n",
       "      <td>685</td>\n",
       "      <td>2.50</td>\n",
       "      <td>Cr</td>\n",
       "      <td>Andheri West</td>\n",
       "      <td>Ready to move</td>\n",
       "      <td>New</td>\n",
       "    </tr>\n",
       "    <tr>\n",
       "      <th>1</th>\n",
       "      <td>2</td>\n",
       "      <td>Apartment</td>\n",
       "      <td>Radheya Sai Enclave Building No 2</td>\n",
       "      <td>640</td>\n",
       "      <td>52.51</td>\n",
       "      <td>L</td>\n",
       "      <td>Naigaon East</td>\n",
       "      <td>Under Construction</td>\n",
       "      <td>New</td>\n",
       "    </tr>\n",
       "    <tr>\n",
       "      <th>2</th>\n",
       "      <td>2</td>\n",
       "      <td>Apartment</td>\n",
       "      <td>Romell Serene</td>\n",
       "      <td>610</td>\n",
       "      <td>1.73</td>\n",
       "      <td>Cr</td>\n",
       "      <td>Borivali West</td>\n",
       "      <td>Under Construction</td>\n",
       "      <td>New</td>\n",
       "    </tr>\n",
       "    <tr>\n",
       "      <th>3</th>\n",
       "      <td>2</td>\n",
       "      <td>Apartment</td>\n",
       "      <td>Soundlines Codename Urban Rainforest</td>\n",
       "      <td>876</td>\n",
       "      <td>59.98</td>\n",
       "      <td>L</td>\n",
       "      <td>Panvel</td>\n",
       "      <td>Under Construction</td>\n",
       "      <td>New</td>\n",
       "    </tr>\n",
       "    <tr>\n",
       "      <th>4</th>\n",
       "      <td>2</td>\n",
       "      <td>Apartment</td>\n",
       "      <td>Origin Oriana</td>\n",
       "      <td>659</td>\n",
       "      <td>94.11</td>\n",
       "      <td>L</td>\n",
       "      <td>Mira Road East</td>\n",
       "      <td>Under Construction</td>\n",
       "      <td>New</td>\n",
       "    </tr>\n",
       "  </tbody>\n",
       "</table>\n",
       "</div>"
      ],
      "text/plain": [
       "   bhk       type                              locality  area  price  \\\n",
       "0    3  Apartment   Lak And Hanware The Residency Tower   685   2.50   \n",
       "1    2  Apartment     Radheya Sai Enclave Building No 2   640  52.51   \n",
       "2    2  Apartment                         Romell Serene   610   1.73   \n",
       "3    2  Apartment  Soundlines Codename Urban Rainforest   876  59.98   \n",
       "4    2  Apartment                         Origin Oriana   659  94.11   \n",
       "\n",
       "  price_unit          region              status  age  \n",
       "0         Cr    Andheri West       Ready to move  New  \n",
       "1          L    Naigaon East  Under Construction  New  \n",
       "2         Cr   Borivali West  Under Construction  New  \n",
       "3          L          Panvel  Under Construction  New  \n",
       "4          L  Mira Road East  Under Construction  New  "
      ]
     },
     "execution_count": 54,
     "metadata": {},
     "output_type": "execute_result"
    }
   ],
   "source": [
    "df_raw.head()"
   ]
  },
  {
   "cell_type": "code",
   "execution_count": 55,
   "id": "fcb5ed06-9246-4cb0-9ee5-6aa1e2e726c7",
   "metadata": {},
   "outputs": [],
   "source": [
    "df_ready_to_move = df_raw.where(df_raw[\"status\"] == \"Ready to move\")"
   ]
  },
  {
   "cell_type": "code",
   "execution_count": 56,
   "id": "067a349a-8494-43ae-8dc7-59d54e176177",
   "metadata": {},
   "outputs": [],
   "source": [
    "df_rtm_final = df_ready_to_move.dropna()"
   ]
  },
  {
   "cell_type": "markdown",
   "id": "ec8a9f4d-cf7e-4a87-bd4b-e1464722bcba",
   "metadata": {},
   "source": [
    "## Details of the cheapest ready to move Apartment"
   ]
  },
  {
   "cell_type": "code",
   "execution_count": 130,
   "id": "3e4c1d27-ca37-4184-ad3b-cff81f2d4607",
   "metadata": {},
   "outputs": [],
   "source": [
    "df_rtm_lakhs = df_rtm_final[df_rtm_final[\"price_unit\"] == \"L\"].copy()"
   ]
  },
  {
   "cell_type": "code",
   "execution_count": 148,
   "id": "b6aba2b5-d7f7-415b-b37b-7b7f5db8393f",
   "metadata": {},
   "outputs": [
    {
     "name": "stdout",
     "output_type": "stream",
     "text": [
      "bhk                        1.0\n",
      "type          Studio Apartment\n",
      "locality                Akruti\n",
      "area                     149.0\n",
      "price                      5.5\n",
      "price_unit                   L\n",
      "region                  Airoli\n",
      "status           Ready to move\n",
      "age                        New\n",
      "dtype: object\n",
      "\n",
      "\n",
      "bhk                     1.0\n",
      "type              Apartment\n",
      "locality        AJ Shri Jay\n",
      "area                  150.0\n",
      "price                  4.49\n",
      "price_unit                L\n",
      "region             Adaigaon\n",
      "status        Ready to move\n",
      "age                     New\n",
      "dtype: object\n",
      "\n",
      "\n",
      "bhk           NaN\n",
      "type          NaN\n",
      "locality      NaN\n",
      "area          NaN\n",
      "price         NaN\n",
      "price_unit    NaN\n",
      "region        NaN\n",
      "status        NaN\n",
      "age           NaN\n",
      "dtype: object\n",
      "\n",
      "\n",
      "bhk                                 1.0\n",
      "type                              Villa\n",
      "locality      Assets The Chalets Avenue\n",
      "area                              560.0\n",
      "price                              30.0\n",
      "price_unit                            L\n",
      "region                    Badlapur West\n",
      "status                    Ready to move\n",
      "age                                 New\n",
      "dtype: object\n",
      "\n",
      "\n",
      "bhk                             1.0\n",
      "type              Independent House\n",
      "locality      Bhoomi Homes Nakshtra\n",
      "area                          400.0\n",
      "price                          20.0\n",
      "price_unit                        L\n",
      "region                 Bhandup East\n",
      "status                Ready to move\n",
      "age                             New\n",
      "dtype: object\n",
      "\n",
      "\n"
     ]
    }
   ],
   "source": [
    "for i in list_res_type:\n",
    "    print(df_rtm_lakhs[df_rtm_lakhs[\"type\"] == i].min())\n",
    "    print(\"\\n\")"
   ]
  },
  {
   "cell_type": "markdown",
   "id": "35c99941-0ac4-4ac4-8c6a-47c2696b8ccc",
   "metadata": {},
   "source": [
    "## Details of the cheapest residences according to their type which are in Ready to Move Status"
   ]
  },
  {
   "cell_type": "code",
   "execution_count": 161,
   "id": "00cbf540-0872-4e0c-99d3-c3eb4382a841",
   "metadata": {},
   "outputs": [],
   "source": [
    "df_rtm_cr = df_rtm_final[df_rtm_final[\"price_unit\"] == \"Cr\"].copy()\n"
   ]
  },
  {
   "cell_type": "code",
   "execution_count": 163,
   "id": "8ea66759-d789-48da-849f-37f1c280dba3",
   "metadata": {},
   "outputs": [
    {
     "name": "stdout",
     "output_type": "stream",
     "text": [
      "Studio Apartment\n",
      "bhk                                    1.0\n",
      "type                      Studio Apartment\n",
      "locality      Swaraj Homes Kalpita Enclave\n",
      "area                                2637.0\n",
      "price                                 6.46\n",
      "price_unit                              Cr\n",
      "region                               Worli\n",
      "status                       Ready to move\n",
      "age                                 Resale\n",
      "dtype: object\n",
      "\n",
      "\n",
      "Apartment\n",
      "bhk                          10.0\n",
      "type                    Apartment\n",
      "locality      Zoeb Aayesha Palace\n",
      "area                      16000.0\n",
      "price                        60.0\n",
      "price_unit                     Cr\n",
      "region            vile parle west\n",
      "status              Ready to move\n",
      "age                       Unknown\n",
      "dtype: object\n",
      "\n",
      "\n",
      "Penthouse\n",
      "bhk                                  4.0\n",
      "type                           Penthouse\n",
      "locality      Runwal Forest Tower 5 To 8\n",
      "area                              2500.0\n",
      "price                                3.9\n",
      "price_unit                            Cr\n",
      "region                    Koper Khairane\n",
      "status                     Ready to move\n",
      "age                              Unknown\n",
      "dtype: object\n",
      "\n",
      "\n",
      "Villa\n",
      "bhk                           7.0\n",
      "type                        Villa\n",
      "locality      Vasant Vasant Vihar\n",
      "area                      12400.0\n",
      "price                        51.0\n",
      "price_unit                     Cr\n",
      "region                      Worli\n",
      "status              Ready to move\n",
      "age                        Resale\n",
      "dtype: object\n",
      "\n",
      "\n",
      "Independent House\n",
      "bhk                             6.0\n",
      "type              Independent House\n",
      "locality      Wadhwa Juhu Anmol Chs\n",
      "area                         7500.0\n",
      "price                          32.0\n",
      "price_unit                       Cr\n",
      "region                       sector\n",
      "status                Ready to move\n",
      "age                          Resale\n",
      "dtype: object\n",
      "\n",
      "\n"
     ]
    }
   ],
   "source": [
    "for i in list_res_type:\n",
    "    print(i)\n",
    "    print(df_rtm_cr[df_rtm_cr[\"type\"] == i].max())\n",
    "    print(\"\\n\")"
   ]
  },
  {
   "cell_type": "markdown",
   "id": "9bb3a58f-8853-4542-861d-5270fba65546",
   "metadata": {},
   "source": [
    "## Details of the most expensive residences according to their type which are in Ready to Move Status"
   ]
  },
  {
   "cell_type": "code",
   "execution_count": 173,
   "id": "852537a9-65ff-4d25-9c2c-f5d240b3e961",
   "metadata": {},
   "outputs": [],
   "source": [
    "df_under_con = df_raw.where(df_raw[\"status\"] == \"Under Construction\")"
   ]
  },
  {
   "cell_type": "code",
   "execution_count": 177,
   "id": "e446963e-09e4-4ee3-a6f2-7e232760dd7c",
   "metadata": {},
   "outputs": [],
   "source": [
    "df_under_con_final = df_under_con.dropna()"
   ]
  },
  {
   "cell_type": "code",
   "execution_count": 187,
   "id": "4a0279f4-068e-4520-92fc-ccc9e54cfee3",
   "metadata": {},
   "outputs": [],
   "source": [
    "df_uc_lakhs = df_under_con_final[df_under_con_final[\"price_unit\"] == \"L\"].copy()"
   ]
  },
  {
   "cell_type": "code",
   "execution_count": 189,
   "id": "ec6f8a26-a806-4eb4-96e6-a9a8eb446c22",
   "metadata": {},
   "outputs": [
    {
     "name": "stdout",
     "output_type": "stream",
     "text": [
      "bhk                            1.0\n",
      "type              Studio Apartment\n",
      "locality      A Plus Golden Corner\n",
      "area                         139.0\n",
      "price                         9.67\n",
      "price_unit                       L\n",
      "region              Ambernath East\n",
      "status          Under Construction\n",
      "age                            New\n",
      "dtype: object\n",
      "\n",
      "\n",
      "bhk                                    1.0\n",
      "type                             Apartment\n",
      "locality       Green Woods Building 2 To 6\n",
      "area                                 127.0\n",
      "price                                  8.5\n",
      "price_unit                               L\n",
      "region                            Agripada\n",
      "status                  Under Construction\n",
      "age                                    New\n",
      "dtype: object\n",
      "\n",
      "\n",
      "bhk           NaN\n",
      "type          NaN\n",
      "locality      NaN\n",
      "area          NaN\n",
      "price         NaN\n",
      "price_unit    NaN\n",
      "region        NaN\n",
      "status        NaN\n",
      "age           NaN\n",
      "dtype: object\n",
      "\n",
      "\n",
      "bhk                                                  1.0\n",
      "type                                               Villa\n",
      "locality      Aditya Creations The Ocean Homes The Pearl\n",
      "area                                               800.0\n",
      "price                                               37.0\n",
      "price_unit                                             L\n",
      "region                                      Naigaon East\n",
      "status                                Under Construction\n",
      "age                                                  New\n",
      "dtype: object\n",
      "\n",
      "\n",
      "bhk                          1.0\n",
      "type           Independent House\n",
      "locality      Dosti Nest Phase 1\n",
      "area                       400.0\n",
      "price                       27.0\n",
      "price_unit                     L\n",
      "region            Ambernath West\n",
      "status        Under Construction\n",
      "age                          New\n",
      "dtype: object\n",
      "\n",
      "\n"
     ]
    }
   ],
   "source": [
    "for i in list_res_type:\n",
    "    print(df_uc_lakhs[df_uc_lakhs[\"type\"] == i].min())\n",
    "    print(\"\\n\")"
   ]
  },
  {
   "cell_type": "markdown",
   "id": "f75a851e-599c-4bce-bab9-c44d16efa642",
   "metadata": {},
   "source": [
    "## Details of the cheapest residences according to their type which are in Under Construction Status. \n",
    "### Please note that there are no Penthouses available in this category"
   ]
  },
  {
   "cell_type": "code",
   "execution_count": 185,
   "id": "1aef7dcd-7c8b-40d4-b67c-cb452d4450f9",
   "metadata": {},
   "outputs": [],
   "source": [
    "df_uc_cr = df_under_con_final[df_under_con_final[\"price_unit\"] == \"Cr\"].copy()"
   ]
  },
  {
   "cell_type": "code",
   "execution_count": 193,
   "id": "8334365c-21df-4ae9-840e-1620d16d3472",
   "metadata": {},
   "outputs": [
    {
     "name": "stdout",
     "output_type": "stream",
     "text": [
      "bhk                               1.0\n",
      "type                 Studio Apartment\n",
      "locality      Piramal Revanta Tower 1\n",
      "area                            733.0\n",
      "price                             1.3\n",
      "price_unit                         Cr\n",
      "region                    Mulund West\n",
      "status             Under Construction\n",
      "age                               New\n",
      "dtype: object\n",
      "\n",
      "\n",
      "bhk                          8.0\n",
      "type                   Apartment\n",
      "locality            Zee Sahyadri\n",
      "area                     10893.0\n",
      "price                      55.55\n",
      "price_unit                    Cr\n",
      "region                     Worli\n",
      "status        Under Construction\n",
      "age                      Unknown\n",
      "dtype: object\n",
      "\n",
      "\n",
      "bhk           NaN\n",
      "type          NaN\n",
      "locality      NaN\n",
      "area          NaN\n",
      "price         NaN\n",
      "price_unit    NaN\n",
      "region        NaN\n",
      "status        NaN\n",
      "age           NaN\n",
      "dtype: object\n",
      "\n",
      "\n",
      "bhk                                                         6.0\n",
      "type                                                      Villa\n",
      "locality      Wadhwa Wise City South Block Phase I Plot RZ8 ...\n",
      "area                                                     8000.0\n",
      "price                                                      15.0\n",
      "price_unit                                                   Cr\n",
      "region                                                    Virar\n",
      "status                                       Under Construction\n",
      "age                                                      Resale\n",
      "dtype: object\n",
      "\n",
      "\n",
      "bhk                                 5.0\n",
      "type                  Independent House\n",
      "locality      Wadhwa Magnolia Cluster 3\n",
      "area                             1756.0\n",
      "price                              2.93\n",
      "price_unit                           Cr\n",
      "region                           Panvel\n",
      "status               Under Construction\n",
      "age                                 New\n",
      "dtype: object\n",
      "\n",
      "\n"
     ]
    }
   ],
   "source": [
    "for i in list_res_type:\n",
    "    print(df_uc_cr[df_uc_cr[\"type\"] == i].max())\n",
    "    print(\"\\n\")"
   ]
  },
  {
   "cell_type": "markdown",
   "id": "f585a04d-6e30-4ca9-b55f-b1bc7f5f8a6e",
   "metadata": {},
   "source": [
    "## Details of the most expensive residences according to their type which are in Under Construction Status. \n",
    "### Please note that there are no Penthouses available in this category"
   ]
  },
  {
   "cell_type": "code",
   "execution_count": null,
   "id": "edb37b1b-c1b8-4b62-9cbb-a4a9c819c52d",
   "metadata": {},
   "outputs": [],
   "source": []
  }
 ],
 "metadata": {
  "kernelspec": {
   "display_name": "Python [conda env:base] *",
   "language": "python",
   "name": "conda-base-py"
  },
  "language_info": {
   "codemirror_mode": {
    "name": "ipython",
    "version": 3
   },
   "file_extension": ".py",
   "mimetype": "text/x-python",
   "name": "python",
   "nbconvert_exporter": "python",
   "pygments_lexer": "ipython3",
   "version": "3.12.7"
  }
 },
 "nbformat": 4,
 "nbformat_minor": 5
}
